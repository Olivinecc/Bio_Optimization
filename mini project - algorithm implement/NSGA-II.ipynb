{
 "cells": [
  {
   "cell_type": "markdown",
   "id": "8b0f115b",
   "metadata": {},
   "source": [
    "# NSGA-II"
   ]
  },
  {
   "cell_type": "code",
   "execution_count": 1,
   "id": "fe929b88",
   "metadata": {},
   "outputs": [],
   "source": [
    "import numpy as np\n",
    "import random\n",
    "import matplotlib.pyplot as plt\n",
    "import pandas as pd"
   ]
  },
  {
   "cell_type": "markdown",
   "id": "2f3c7b45",
   "metadata": {},
   "source": [
    "## Define zdt2 function"
   ]
  },
  {
   "cell_type": "code",
   "execution_count": 2,
   "id": "e68dea81",
   "metadata": {},
   "outputs": [],
   "source": [
    "def zdt_2(x):\n",
    "    f1 = float(x[0])\n",
    "    sum1 = 0.0\n",
    "    for i in range(x_num - 1):\n",
    "        sum1 = sum1 + x[i + 1]\n",
    "    g = float(1 + 9 * (sum1 / (x_num-1)))\n",
    "    f2 = g * (1 - (f1 / g) ** 2)\n",
    "    f = [f1,f2]\n",
    "    return f"
   ]
  },
  {
   "cell_type": "markdown",
   "id": "4a0a32d9",
   "metadata": {},
   "source": [
    "## Initializing population"
   ]
  },
  {
   "cell_type": "code",
   "execution_count": 3,
   "id": "993f20d3",
   "metadata": {},
   "outputs": [],
   "source": [
    "def initialpop(N,x_num,f_num,x_max,x_min):\n",
    "    chromo = np.zeros([N,x_num + f_num + 6])\n",
    "    for i in range(N):\n",
    "        for j in range(x_num):\n",
    "            chromo[i,j] = x_min[0,j]+(x_max[0,j]-x_min[0,j])*random.random()\n",
    "        chromo[i,x_num] = zdt_2(chromo[i,0:x_num])[0]\n",
    "        chromo[i,x_num + 1] = zdt_2(chromo[i,0:x_num])[1]\n",
    "    return chromo"
   ]
  },
  {
   "cell_type": "markdown",
   "id": "fb0ea80e",
   "metadata": {},
   "source": [
    "## Non-domination sort"
   ]
  },
  {
   "cell_type": "code",
   "execution_count": 4,
   "id": "79e42b06",
   "metadata": {},
   "outputs": [],
   "source": [
    "def nondominsort(chromo,N,x_num,f_num,x_max,x_min):\n",
    "    f1 = chromo[:,x_num]\n",
    "    f2 = chromo[:,x_num + 1]\n",
    "    ps = [[] for i in range(0,len(f1))]#Record which individuals are dominated by individual i\n",
    "    pn=[0 for i in range(0,len(f1))]#Record how many individuals i was dominated by\n",
    "    F = [[]]\n",
    "    rank = [0 for i in range(0, len(f1))]\n",
    "\n",
    "    for  i in range(0,len(f1)):\n",
    "        ps[i] = []\n",
    "        pn[i] = 0\n",
    "\n",
    "        for j in range (0,len(f1)):\n",
    "            if (f1[i] < f1[j] and f2[i] < f2[j]) or (f1[i] <= f1[j] and f2[i] < f2[j]) or (f1[i] < f1[j] and f2[i] <= f2[j]):\n",
    "                if j not in ps[i]:\n",
    "                    ps[i].append(j)#Individual i dominates individual j, recording the individual\n",
    "            elif (f1[j] < f1[i] and f2[j] < f2[i]) or (f1[j] <= f1[i] and f2[j] < f2[i]) or (f1[j] < f1[i] and f2[j] <= f2[i]) :                                                                                               \n",
    "                pn[i] = pn[i] + 1# i is dominated by individual j, count +1\n",
    "        \n",
    "        if pn[i] == 0:#No individual can dominate i. Then i is a non-dominant individual\n",
    "            rank[i] = 0\n",
    "            if i not in F[0]:\n",
    "                F[0].append(i)\n",
    "\n",
    "    i = 0\n",
    "    while (F[i] != []):\n",
    "        temp = []\n",
    "        for m in F[i] :\n",
    "            for n in ps[m]:\n",
    "                pn[n] = pn[n] -1\n",
    "                if pn[n] == 0 :#Determine if it becomes a non-dominated solution?v\n",
    "                    rank[n] = i + 1\n",
    "                    if n not in temp:\n",
    "                        temp.append(n)#Statistics pareto 'rank+1' level of the solution\n",
    "        i = i + 1 #Then count the next level\n",
    "        F.append(temp) #Record which individuals are included in the 'rank' hierarchy\n",
    "\n",
    "    del F[len(F)-1]#Delete the last empty level\n",
    "    \n",
    "    chromo[:,x_num + f_num] = rank\n",
    "    \n",
    "    return F"
   ]
  },
  {
   "cell_type": "markdown",
   "id": "66ac0613",
   "metadata": {},
   "source": [
    "## Crowding distance sort"
   ]
  },
  {
   "cell_type": "code",
   "execution_count": 5,
   "id": "9d7b6a37",
   "metadata": {},
   "outputs": [],
   "source": [
    "def crowddissort(chromo,F,N,x_num,f_num,x_max,x_min):\n",
    "    #chromo[:,x_num + f_num] = rank\n",
    "    temp = np.array(sorted(chromo, key = lambda chromo:chromo[x_num + f_num]))#Populations sorted by pareto rank\n",
    "    chromo_cd = []\n",
    "\n",
    "    for f in range(len(F)):\n",
    "        length = len(F[f])#How many individuals are included in this pareto rank layer\n",
    "        y = temp[0:length,:]#Fetch all the individuals in this pareto rank layer. (temp is ranked)\n",
    "        temp = np.delete(temp, np.s_[:length], axis=0)#Clear the pareto rank layer of individuals (to facilitate taking the next layer of individuals later)\n",
    "\n",
    "        for i in range(f_num):\n",
    "            y[:,x_num + f_num + i + 1] = [i for i in range(len(y))]#Index of the individual in its layer\n",
    "            y_sort = np.array(sorted(y, key = lambda y:y[x_num + i]))#Population in the rank layer sorted by the i-th target value\n",
    "\n",
    "            f_min = y_sort[0,x_num + i]#The minimum value of the i-th target in the layer\n",
    "            f_max = y_sort[length - 1,x_num + i]#The maximum value of the i-th target in the layer\n",
    "            y[int(y_sort[:,x_num + f_num + i + 1][0])][x_num + f_num + i + 3] = float(\"inf\")#Set the individual interval with the smallest target value to infinite\n",
    "            y[int(y_sort[:,x_num + f_num + i + 1][length - 1])][x_num + f_num + i + 3] = float(\"inf\")#将The individual interval with the largest target value is set to infinite\n",
    "\n",
    "            #Calculate the interval of other individuals\n",
    "            j = 1\n",
    "            while (j <= (length - 2)):\n",
    "                pre_f = y_sort[j-1,x_num + i]#The i-th target value of the previous one of j\n",
    "                next_f = y_sort[j + 1,x_num + i]#The i-th target value of the next j\n",
    "                if (f_max - f_min == 0):\n",
    "                     y[int(y_sort[:,x_num + f_num + i + 1][j])][x_num + f_num + i + 3] = float(\"inf\")\n",
    "                else:\n",
    "                    y[int(y_sort[:,x_num + f_num + i + 1][j])][x_num + f_num + i + 3] = float((next_f-pre_f)/(f_max-f_min))\n",
    "                j = j + 1\n",
    "\n",
    "\n",
    "        #Calculating crowding\n",
    "        y[:,x_num + f_num + 5] = y[:,x_num + f_num + 3] + y[:,x_num + f_num + 4]\n",
    "        y = np.array(y)\n",
    "        chromo_cd.append(y)\n",
    "\n",
    "    chromo = np.array([x for y in chromo_cd for x in y])\n",
    "    \n",
    "    return chromo"
   ]
  },
  {
   "cell_type": "markdown",
   "id": "d8955569",
   "metadata": {},
   "source": [
    "## Tournament selection"
   ]
  },
  {
   "cell_type": "code",
   "execution_count": 6,
   "id": "f1af0fac",
   "metadata": {},
   "outputs": [],
   "source": [
    "def tournamentselect(chromo,F,N,x_num,f_num,x_max,x_min):\n",
    "    pick = []#Record the selected individuals\n",
    "    a=round(N/2)\n",
    "    index = list(np.arange(0,100,1))\n",
    "\n",
    "    for i in range(N):\n",
    "        index_pick = random.sample(index,a)#k individuals were randomly selected for comparison\n",
    "        rank_pick = chromo[index_pick,x_num + f_num]#Pareto hierarchy of the selected k individuals\n",
    "        dis_pick = chromo[index_pick,x_num + f_num + 5]#The crowding of the selected k individuals\n",
    "        idx_rank = np.argwhere(rank_pick == min(rank_pick))#Indexing of individuals at the smallest level\n",
    "        idx_dis = np.argwhere(dis_pick[idx_rank] == max(dis_pick[idx_rank]))#Individual index of maximum congestion\n",
    "        chose = random.sample(list(idx_dis[:,0]),1)#If you do a comparison or more than one, choose one at random\n",
    "        idx = idx_rank[chose].ravel()#to the index of the selected individual in the parent\n",
    "        pick.append(idx)#Record Index\n",
    "\n",
    "    pick = list(np.array(pick).flatten())\n",
    "    \n",
    "    return pick"
   ]
  },
  {
   "cell_type": "markdown",
   "id": "9b40955f",
   "metadata": {},
   "source": [
    "## Crossover"
   ]
  },
  {
   "cell_type": "code",
   "execution_count": 7,
   "id": "afec8cb1",
   "metadata": {},
   "outputs": [],
   "source": [
    "def crossover(chromo,F,pick,pc,yita1,N,x_num,f_num,x_max,x_min):\n",
    "    temp = chromo[pick, 0:x_num]#Take out the selected individuals\n",
    "    off_s = []#Storage of offspring individuals\n",
    "    index = list(np.arange(0,100,1))\n",
    "\n",
    "    for i in range(N):\n",
    "        #Pick out two different individuals to cross\n",
    "        pick_cros = random.sample(index , 2)\n",
    "        while pick[pick_cros[0]] == pick[pick_cros[1]]:\n",
    "            pick_cros = random.sample(index , 2)\n",
    "\n",
    "        off_1 = chromo[pick_cros[0], :]\n",
    "        off_2 = chromo[pick_cros[1], :]\n",
    "        \n",
    "        #Each dimension is crossed by the formula\n",
    "        if random.random() < pc:\n",
    "            for j in range(x_num):\n",
    "                u = random.random()\n",
    "                if u < 0.5:\n",
    "                    gama = (2 * u)**(1 / (yita1 + 1))\n",
    "                else:\n",
    "                    gama = (1 / (2 * (1 - u)))**(1 / (yita1+1))\n",
    "\n",
    "                off_1[j] = 0.5 * ((1 + gama) * off_1[j] + (1 - gama) * off_2[j])\n",
    "                off_2[j] = 0.5 * ((1 - gama) * off_1[j] + (1 + gama) * off_2[j])\n",
    "            \n",
    "            #Modify if the boundary is exceeded\n",
    "            off_1[0:x_num] = np.minimum(off_1[0:x_num], x_max.flatten())\n",
    "            off_1[0:x_num] = np.maximum(off_1[0:x_num], x_min.flatten())\n",
    "            off_2[0:x_num] = np.minimum(off_2[0:x_num], x_max.flatten())\n",
    "            off_2[0:x_num] = np.maximum(off_2[0:x_num], x_min.flatten())\n",
    "\n",
    "        off_s.append(off_1)\n",
    "        off_s.append(off_2)\n",
    "\n",
    "    off_s = np.array(off_s)\n",
    "    indexx = list(np.arange(0,200,1)) \n",
    "    pick = random.sample(index,N)#N randomly selected from 2*N\n",
    "    chromo = off_s[pick,:]\n",
    "    \n",
    "    return chromo"
   ]
  },
  {
   "cell_type": "markdown",
   "id": "35419bef",
   "metadata": {},
   "source": [
    "## Mutation"
   ]
  },
  {
   "cell_type": "code",
   "execution_count": 8,
   "id": "254c7476",
   "metadata": {},
   "outputs": [],
   "source": [
    "def mutation(chromo,F,pick,pm,yita2,N,x_num,f_num,x_max,x_min):\n",
    "    for i in range(N):\n",
    "        if random.random() < pm:\n",
    "            # Each dimension has to be mutated by the formula\n",
    "            for  j in range(x_num):\n",
    "                u = random.random()\n",
    "                if u < 0.5:\n",
    "                    delta = (2 * u)**(1 / (yita2+1)) - 1\n",
    "                else:\n",
    "                    delta = 1 - (2 * (1 - u))**(1 / (yita2+1))\n",
    "\n",
    "                chromo[i,j] = chromo[i,j] + delta\n",
    "\n",
    "        chromo[i,0:x_num] = np.minimum(chromo[i,0:x_num], x_max.flatten())\n",
    "        chromo[i,0:x_num] = np.maximum(chromo[i,0:x_num], x_min.flatten())\n",
    "        chromo[i,x_num:x_num+2] = zdt_2(chromo[i,0:x_num])#Calculate the value of each objective function    \n",
    "    \n",
    "    return chromo"
   ]
  },
  {
   "cell_type": "markdown",
   "id": "d358e3bf",
   "metadata": {},
   "source": [
    "## Elitism"
   ]
  },
  {
   "cell_type": "code",
   "execution_count": 9,
   "id": "236a4cb9",
   "metadata": {},
   "outputs": [],
   "source": [
    "def elitism(chromo_co,N,x_num,f_num,x_max,x_min):\n",
    "    chromo_co = chromo_cd_co\n",
    "    chromo = []\n",
    "    chromo_sort = np.array(sorted(chromo_co, key = lambda chromo_co:chromo_co[x_num + f_num]))#The merged chromo is sorted by pareto rank\n",
    "    rank = 0\n",
    "\n",
    "    while True:\n",
    "        # Take pareto rank whole layer\n",
    "        index = np.argwhere(chromo_co[:,x_num + f_num] == rank).flatten()\n",
    "        temp = list(chromo_sort[index,:])\n",
    "        temp = np.array(sorted(temp, key = lambda temp:temp[x_num + f_num + 5],reverse=True))\n",
    "        chromo.extend(temp)\n",
    "        if np.shape(chromo)[0] >= N:\n",
    "            break\n",
    "        rank = rank + 1\n",
    "\n",
    "    chromo = np.array(chromo)[0:N,:]\n",
    "    \n",
    "    return chromo"
   ]
  },
  {
   "cell_type": "markdown",
   "id": "6f48b8ae",
   "metadata": {},
   "source": [
    "## Main"
   ]
  },
  {
   "cell_type": "code",
   "execution_count": 10,
   "id": "8912d872",
   "metadata": {},
   "outputs": [
    {
     "data": {
      "image/png": "[encoded data removed]",
      "text/plain": [
       "<Figure size 432x288 with 1 Axes>"
      ]
     },
     "metadata": {
      "needs_background": "light"
     },
     "output_type": "display_data"
    }
   ],
   "source": [
    "N = 100 #Population size\n",
    "x_num = 30 #Solve for the dimension\n",
    "f_num = 2 #Number of objectives\n",
    "x_min = np.zeros((1,x_num))#Minimum value of decision variables\n",
    "x_max = np.ones((1,x_num))#Maximum value of decision variables\n",
    "pc = 0.9 #Crossover probability\n",
    "pm = 1 / x_num #Mutation probability\n",
    "yita1 = 20\n",
    "yita2 = 20\n",
    "iteration = 3000 #Maximum number of iterations\n",
    "\n",
    "# Initializing the population\n",
    "chromo_pop = initialpop(N,x_num,f_num,x_max,x_min)\n",
    "F = nondominsort(chromo_pop,N,x_num,f_num,x_max,x_min) #Non-dominated ranking, number of populations is N\n",
    "chromo = crowddissort(chromo_pop,F,N,x_num,f_num,x_max,x_min)#Calculate the degree of crowding with the number of populations as N\n",
    "\n",
    "#Start Iteration\n",
    "for i in range(iteration):\n",
    "    parentchromo = chromo #Defining the parent population\n",
    "    pick = tournamentselect(parentchromo,F,N,x_num,f_num,x_max,x_min)#Select\n",
    "    chromo_cros = crossover(parentchromo,F,pick,pc,yita1,N,x_num,f_num,x_max,x_min)#Crossover\n",
    "    chromo_off = mutation(chromo_cros,F,pick,pm,yita2,N,x_num,f_num,x_max,x_min)#Variation\n",
    "    \n",
    "    #Population merging\n",
    "    chromo_co = np.concatenate((parentchromo,chromo_off),axis=0)#The number of populations is 2*NP\n",
    "    F_co = nondominsort(chromo_co,N,x_num,f_num,x_max,x_min)##Non-dominated ranking, number of populations is 2*N\n",
    "    chromo_cd_co = crowddissort(chromo_co,F,N,x_num,f_num,x_max,x_min)#Calculate the degree of crowding with the number of populations as 2*N\n",
    "    chromo = elitism(chromo_cd_co,N,x_num,f_num,x_max,x_min)\n",
    "    \n",
    "    i = i + 1\n",
    "\n",
    "#Elite Retention\n",
    "chromo = np.array(sorted(chromo,key=lambda chromo:chromo[x_num]))\n",
    "\n",
    "#Import test data for comparison against optimization results.\n",
    "testdata = pd.read_csv('D://asu/IEE 598 Bio/mini project 2/ZDT2.csv')\n",
    "f1_test = testdata.iloc[:,0]\n",
    "f2_test = testdata.iloc[:,1]\n",
    "\n",
    "#Visualization\n",
    "plt.title(\"f1\",y=0,loc='right')\n",
    "plt.title(\"f2\",y=1,loc='left')\n",
    "plt.title(\"ZDT2\")\n",
    "plt.scatter(chromo[:,x_num],chromo[:,x_num + 1],marker='o',color='green',s=40)\n",
    "plt.plot(f1_test,f2_test)\n",
    "plt.show()"
   ]
  },
  {
   "cell_type": "code",
   "execution_count": 11,
   "id": "3c2e7366",
   "metadata": {},
   "outputs": [
    {
     "data": {
      "image/png": "[encoded data removed]",
      "text/plain": [
       "<Figure size 432x288 with 1 Axes>"
      ]
     },
     "metadata": {
      "needs_background": "light"
     },
     "output_type": "display_data"
    }
   ],
   "source": [
    "iteration = 500\n",
    "\n",
    "# Initializing the population\n",
    "chromo_pop = initialpop(N,x_num,f_num,x_max,x_min)\n",
    "F = nondominsort(chromo_pop,N,x_num,f_num,x_max,x_min) #Non-dominated ranking, number of populations is N\n",
    "chromo = crowddissort(chromo_pop,F,N,x_num,f_num,x_max,x_min)#Calculate the degree of crowding with the number of populations as N\n",
    "\n",
    "#Start Iteration\n",
    "for i in range(iteration):\n",
    "    parentchromo = chromo #Defining the parent population\n",
    "    pick = tournamentselect(parentchromo,F,N,x_num,f_num,x_max,x_min)#Select\n",
    "    chromo_cros = crossover(parentchromo,F,pick,pc,yita1,N,x_num,f_num,x_max,x_min)#Crossover\n",
    "    chromo_off = mutation(chromo_cros,F,pick,pm,yita2,N,x_num,f_num,x_max,x_min)#Variation\n",
    "    \n",
    "    #Population merging\n",
    "    chromo_co = np.concatenate((parentchromo,chromo_off),axis=0)#The number of populations is 2*NP\n",
    "    F_co = nondominsort(chromo_co,N,x_num,f_num,x_max,x_min)##Non-dominated ranking, number of populations is 2*N\n",
    "    chromo_cd_co = crowddissort(chromo_co,F,N,x_num,f_num,x_max,x_min)#Calculate the degree of crowding with the number of populations as 2*N\n",
    "    chromo = elitism(chromo_cd_co,N,x_num,f_num,x_max,x_min)\n",
    "    \n",
    "    i = i + 1\n",
    "\n",
    "#Elite Retention\n",
    "chromo = np.array(sorted(chromo,key=lambda chromo:chromo[x_num]))\n",
    "\n",
    "#Import test data for comparison against optimization results.\n",
    "testdata = pd.read_csv('D://asu/IEE 598 Bio/mini project 2/ZDT2.csv')\n",
    "f1_test = testdata.iloc[:,0]\n",
    "f2_test = testdata.iloc[:,1]\n",
    "\n",
    "#Visualization\n",
    "plt.title(\"f1\",y=0,loc='right')\n",
    "plt.title(\"f2\",y=1,loc='left')\n",
    "plt.title(\"ZDT2\")\n",
    "plt.scatter(chromo[:,x_num],chromo[:,x_num + 1],marker='o',color='green',s=40)\n",
    "plt.plot(f1_test,f2_test)\n",
    "plt.show()"
   ]
  },
  {
   "cell_type": "code",
   "execution_count": null,
   "id": "256551d6",
   "metadata": {},
   "outputs": [],
   "source": []
  }
 ],
 "metadata": {
  "kernelspec": {
   "display_name": "Python 3 (ipykernel)",
   "language": "python",
   "name": "python3"
  },
  "language_info": {
   "codemirror_mode": {
    "name": "ipython",
    "version": 3
   },
   "file_extension": ".py",
   "mimetype": "text/x-python",
   "name": "python",
   "nbconvert_exporter": "python",
   "pygments_lexer": "ipython3",
   "version": "3.9.7"
  }
 },
 "nbformat": 4,
 "nbformat_minor": 5
}
